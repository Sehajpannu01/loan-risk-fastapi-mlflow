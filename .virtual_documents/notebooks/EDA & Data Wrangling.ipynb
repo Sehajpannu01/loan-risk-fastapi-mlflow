





import pandas as pd


data= pd.read_csv("../data/raw/Loan_default.csv")


data.head()


data.dtypes





data.isnull().sum() #since no null values in any column move to check if there are any duplicates in LoadID


data.duplicated(subset=['LoanID']).sum()


data.duplicated().sum() #no duplicates in dataset data looks clean let's move further to our exploratory data analysis


data.shape


data.columns


data.head()


data.tail()


data.loc[255] #fetch and analize random row using label-based indexing method


#let's create some new columns using feature engineering:-

#shows whether loan is bigger then the income of applicant.
data['LoantoIncomeRatio'] = round(data['LoanAmount'] / data['Income'],2)

#shows an estimate of how much the borrower must pay every month. If it's a big chunk of income it can effect repayment capability.
data['MonthlyPayment'] = round(data['LoanAmount'] * (1 + (data['InterestRate'] / 100)) / data['LoanTerm'],2)

# shows how stable job score of a person
def employment_stability(row):
    score = row['MonthsEmployed']
    if row['EmploymentType'] == 'Full-time':
        score += 10
    elif row['EmploymentType'] == 'Part-time':
        score += 5
    elif row['EmploymentType'] == 'Unemployed':
        score -= 10
    return score

data['EmploymentStability'] = data.apply(employment_stability, axis=1)

#shows risky young borrowers with large loans
data['IsYoungHighLoan'] = ((data['Age']<25) & (data['LoanAmount']>150000)).astype(int)

#shows if person have dependent then it will increase chances of being default
data['IsSingleWithDependents'] = ((data['MaritalStatus'] == 'Single') & (data['HasDependents'] == 'Yes')).astype(int)

#shows if a person have co signer or with spuses might default less
data['HasFinancialSupport'] = ((data['HasCoSigner'] == 'Yes') | (data['MaritalStatus'] == 'Married')).astype(int)

#shows if Debt-to-Income ratio is over 0.5 often indicates risk of being default
data['HighDTI'] = (data['DTIRatio'] > 0.5).astype(int)

#shows if the person is using loan for which purpose and mark them Essential or Discretionary
def purpose_group(purpose):
    if purpose in ['Home', 'Education', 'Auto']:
        return 'Essential'
    else:
        return 'Discretionary'

data['LoanPurposeGroup'] = data['LoanPurpose'].apply(purpose_group)

data.head()





data["LoanPurpose"].unique()


data['LoanAmount'].mean()


data['LoanAmount'].max()


data['LoanAmount'].median()


data['LoanAmount'].mode()


data['IsYoungHighLoan'].value_counts()





data.dtypes


numerical_cols = data.select_dtypes(include = ['float64','int64']).columns
























