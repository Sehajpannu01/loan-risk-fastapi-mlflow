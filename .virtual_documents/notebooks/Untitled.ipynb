#Data is downloaded from kaggle


import pandas as pd


data= pd.read_csv("../data/raw/Loan_default.csv")


data.head()


data.dtypes


data.isnull().sum() #since no null values in any column move to check if there are any duplicates in LoadID


data.duplicated(subset=['LoanID']).sum()


data.duplicated().sum() #no duplicates in dataset data looks clean let's move further to our exploratory data analysis


data.shape


data.columns


data.head()


data.tail()


%matplotlib widget

import matplotlib.pyplot as plt
plt.ion()
data['Default'].value_counts(normalize=True).plot(kind='bar')
plt.title("Target Distribution: Default")
plt.xlabel("Default (0 = No, 1 = Yes)")
plt.ylabel("Proportion")
plt.show()


pip install ipympl



