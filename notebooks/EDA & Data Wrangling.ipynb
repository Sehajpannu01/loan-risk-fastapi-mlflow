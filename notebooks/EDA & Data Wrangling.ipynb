{
 "cells": [
  {
   "cell_type": "markdown",
   "id": "55dbf035-d505-4d3e-9d70-d04f0eb1742f",
   "metadata": {},
   "source": [
    "#### Data is downloaded from kaggle"
   ]
  },
  {
   "cell_type": "markdown",
   "id": "5f92b394-9d85-43cc-8c5b-a520e445ed18",
   "metadata": {},
   "source": [
    "### This sheet involve following process:-\n",
    "\n",
    "- Data Collection – Importing the dataset from CSV or source\n",
    "\n",
    "- Data Integration – Merging or joining multiple datasets (if applicable)\n",
    "\n",
    "- Data Cleaning – Handling missing values, correcting data types, removing duplicates\n",
    "\n",
    "- Data Manipulation – Filtering, grouping, sorting, and reshaping the data\n",
    "\n",
    "- Data Transformation – Scaling, encoding, or creating new features\n",
    "\n",
    "- Feature Engineering – Creating new columns that may be helpful for ML\n",
    "\n",
    "- Outlier Detection – Identifying extreme values that may skew results\n",
    "\n",
    "- Descriptive Statistics – Showing mean, median, mode, skew, etc.\n",
    "\n",
    "- Data Visualization – Exploring patterns through plots (histograms, boxplots, heatmaps, etc.)\n",
    "\n",
    "- Exploratory Insights – Understanding trends, correlations, and distributions\n",
    "\n",
    "- Data Exporting – Saving cleaned/transformed data for modeling or storage"
   ]
  },
  {
   "cell_type": "code",
   "execution_count": 413,
   "id": "40449957-cbc0-442a-bcc5-a6ce94d53a17",
   "metadata": {},
   "outputs": [],
   "source": [
    "import pandas as pd\n",
    "import numpy as np\n",
    "import statistics as stats\n",
    "import seaborn as sns\n",
    "import matplotlib.pyplot as plt"
   ]
  },
  {
   "cell_type": "code",
   "execution_count": 415,
   "id": "98caed90-1045-4f9e-8eb7-8872eadcd694",
   "metadata": {},
   "outputs": [],
   "source": [
    "data= pd.read_csv(\"../data/raw/Loan_default.csv\")"
   ]
  },
  {
   "cell_type": "code",
   "execution_count": 416,
   "id": "408aeb85-07c8-490d-af7d-629e0153f458",
   "metadata": {},
   "outputs": [
    {
     "data": {
      "text/html": [
       "<div>\n",
       "<style scoped>\n",
       "    .dataframe tbody tr th:only-of-type {\n",
       "        vertical-align: middle;\n",
       "    }\n",
       "\n",
       "    .dataframe tbody tr th {\n",
       "        vertical-align: top;\n",
       "    }\n",
       "\n",
       "    .dataframe thead th {\n",
       "        text-align: right;\n",
       "    }\n",
       "</style>\n",
       "<table border=\"1\" class=\"dataframe\">\n",
       "  <thead>\n",
       "    <tr style=\"text-align: right;\">\n",
       "      <th></th>\n",
       "      <th>LoanID</th>\n",
       "      <th>Age</th>\n",
       "      <th>Income</th>\n",
       "      <th>LoanAmount</th>\n",
       "      <th>CreditScore</th>\n",
       "      <th>MonthsEmployed</th>\n",
       "      <th>NumCreditLines</th>\n",
       "      <th>InterestRate</th>\n",
       "      <th>LoanTerm</th>\n",
       "      <th>DTIRatio</th>\n",
       "      <th>Education</th>\n",
       "      <th>EmploymentType</th>\n",
       "      <th>MaritalStatus</th>\n",
       "      <th>HasMortgage</th>\n",
       "      <th>HasDependents</th>\n",
       "      <th>LoanPurpose</th>\n",
       "      <th>HasCoSigner</th>\n",
       "      <th>Default</th>\n",
       "    </tr>\n",
       "  </thead>\n",
       "  <tbody>\n",
       "    <tr>\n",
       "      <th>0</th>\n",
       "      <td>I38PQUQS96</td>\n",
       "      <td>56</td>\n",
       "      <td>85994</td>\n",
       "      <td>50587</td>\n",
       "      <td>520</td>\n",
       "      <td>80</td>\n",
       "      <td>4</td>\n",
       "      <td>15.23</td>\n",
       "      <td>36</td>\n",
       "      <td>0.44</td>\n",
       "      <td>Bachelor's</td>\n",
       "      <td>Full-time</td>\n",
       "      <td>Divorced</td>\n",
       "      <td>Yes</td>\n",
       "      <td>Yes</td>\n",
       "      <td>Other</td>\n",
       "      <td>Yes</td>\n",
       "      <td>0</td>\n",
       "    </tr>\n",
       "    <tr>\n",
       "      <th>1</th>\n",
       "      <td>HPSK72WA7R</td>\n",
       "      <td>69</td>\n",
       "      <td>50432</td>\n",
       "      <td>124440</td>\n",
       "      <td>458</td>\n",
       "      <td>15</td>\n",
       "      <td>1</td>\n",
       "      <td>4.81</td>\n",
       "      <td>60</td>\n",
       "      <td>0.68</td>\n",
       "      <td>Master's</td>\n",
       "      <td>Full-time</td>\n",
       "      <td>Married</td>\n",
       "      <td>No</td>\n",
       "      <td>No</td>\n",
       "      <td>Other</td>\n",
       "      <td>Yes</td>\n",
       "      <td>0</td>\n",
       "    </tr>\n",
       "    <tr>\n",
       "      <th>2</th>\n",
       "      <td>C1OZ6DPJ8Y</td>\n",
       "      <td>46</td>\n",
       "      <td>84208</td>\n",
       "      <td>129188</td>\n",
       "      <td>451</td>\n",
       "      <td>26</td>\n",
       "      <td>3</td>\n",
       "      <td>21.17</td>\n",
       "      <td>24</td>\n",
       "      <td>0.31</td>\n",
       "      <td>Master's</td>\n",
       "      <td>Unemployed</td>\n",
       "      <td>Divorced</td>\n",
       "      <td>Yes</td>\n",
       "      <td>Yes</td>\n",
       "      <td>Auto</td>\n",
       "      <td>No</td>\n",
       "      <td>1</td>\n",
       "    </tr>\n",
       "    <tr>\n",
       "      <th>3</th>\n",
       "      <td>V2KKSFM3UN</td>\n",
       "      <td>32</td>\n",
       "      <td>31713</td>\n",
       "      <td>44799</td>\n",
       "      <td>743</td>\n",
       "      <td>0</td>\n",
       "      <td>3</td>\n",
       "      <td>7.07</td>\n",
       "      <td>24</td>\n",
       "      <td>0.23</td>\n",
       "      <td>High School</td>\n",
       "      <td>Full-time</td>\n",
       "      <td>Married</td>\n",
       "      <td>No</td>\n",
       "      <td>No</td>\n",
       "      <td>Business</td>\n",
       "      <td>No</td>\n",
       "      <td>0</td>\n",
       "    </tr>\n",
       "    <tr>\n",
       "      <th>4</th>\n",
       "      <td>EY08JDHTZP</td>\n",
       "      <td>60</td>\n",
       "      <td>20437</td>\n",
       "      <td>9139</td>\n",
       "      <td>633</td>\n",
       "      <td>8</td>\n",
       "      <td>4</td>\n",
       "      <td>6.51</td>\n",
       "      <td>48</td>\n",
       "      <td>0.73</td>\n",
       "      <td>Bachelor's</td>\n",
       "      <td>Unemployed</td>\n",
       "      <td>Divorced</td>\n",
       "      <td>No</td>\n",
       "      <td>Yes</td>\n",
       "      <td>Auto</td>\n",
       "      <td>No</td>\n",
       "      <td>0</td>\n",
       "    </tr>\n",
       "  </tbody>\n",
       "</table>\n",
       "</div>"
      ],
      "text/plain": [
       "       LoanID  Age  Income  LoanAmount  CreditScore  MonthsEmployed  \\\n",
       "0  I38PQUQS96   56   85994       50587          520              80   \n",
       "1  HPSK72WA7R   69   50432      124440          458              15   \n",
       "2  C1OZ6DPJ8Y   46   84208      129188          451              26   \n",
       "3  V2KKSFM3UN   32   31713       44799          743               0   \n",
       "4  EY08JDHTZP   60   20437        9139          633               8   \n",
       "\n",
       "   NumCreditLines  InterestRate  LoanTerm  DTIRatio    Education  \\\n",
       "0               4         15.23        36      0.44   Bachelor's   \n",
       "1               1          4.81        60      0.68     Master's   \n",
       "2               3         21.17        24      0.31     Master's   \n",
       "3               3          7.07        24      0.23  High School   \n",
       "4               4          6.51        48      0.73   Bachelor's   \n",
       "\n",
       "  EmploymentType MaritalStatus HasMortgage HasDependents LoanPurpose  \\\n",
       "0      Full-time      Divorced         Yes           Yes       Other   \n",
       "1      Full-time       Married          No            No       Other   \n",
       "2     Unemployed      Divorced         Yes           Yes        Auto   \n",
       "3      Full-time       Married          No            No    Business   \n",
       "4     Unemployed      Divorced          No           Yes        Auto   \n",
       "\n",
       "  HasCoSigner  Default  \n",
       "0         Yes        0  \n",
       "1         Yes        0  \n",
       "2          No        1  \n",
       "3          No        0  \n",
       "4          No        0  "
      ]
     },
     "execution_count": 416,
     "metadata": {},
     "output_type": "execute_result"
    }
   ],
   "source": [
    "data.head()"
   ]
  },
  {
   "cell_type": "code",
   "execution_count": 417,
   "id": "bc645659-f1cd-443d-9b73-8e8acfa0ac89",
   "metadata": {},
   "outputs": [
    {
     "data": {
      "text/plain": [
       "LoanID             object\n",
       "Age                 int64\n",
       "Income              int64\n",
       "LoanAmount          int64\n",
       "CreditScore         int64\n",
       "MonthsEmployed      int64\n",
       "NumCreditLines      int64\n",
       "InterestRate      float64\n",
       "LoanTerm            int64\n",
       "DTIRatio          float64\n",
       "Education          object\n",
       "EmploymentType     object\n",
       "MaritalStatus      object\n",
       "HasMortgage        object\n",
       "HasDependents      object\n",
       "LoanPurpose        object\n",
       "HasCoSigner        object\n",
       "Default             int64\n",
       "dtype: object"
      ]
     },
     "execution_count": 417,
     "metadata": {},
     "output_type": "execute_result"
    }
   ],
   "source": [
    "data.dtypes"
   ]
  },
  {
   "cell_type": "markdown",
   "id": "cdc8179c-7110-4827-bfb9-395b4df79781",
   "metadata": {},
   "source": [
    "### Data Cleaning\n",
    "\n",
    "- ##### Handling Missing Values\n",
    "- ##### Handling Duplicate Rows\n",
    "- ##### Handling Outliers/Inaccurate Data"
   ]
  },
  {
   "cell_type": "code",
   "execution_count": 419,
   "id": "8ad79ea4-4a24-4b1c-8e15-1af68e405bd4",
   "metadata": {},
   "outputs": [
    {
     "data": {
      "text/plain": [
       "LoanID            0\n",
       "Age               0\n",
       "Income            0\n",
       "LoanAmount        0\n",
       "CreditScore       0\n",
       "MonthsEmployed    0\n",
       "NumCreditLines    0\n",
       "InterestRate      0\n",
       "LoanTerm          0\n",
       "DTIRatio          0\n",
       "Education         0\n",
       "EmploymentType    0\n",
       "MaritalStatus     0\n",
       "HasMortgage       0\n",
       "HasDependents     0\n",
       "LoanPurpose       0\n",
       "HasCoSigner       0\n",
       "Default           0\n",
       "dtype: int64"
      ]
     },
     "execution_count": 419,
     "metadata": {},
     "output_type": "execute_result"
    }
   ],
   "source": [
    "data.isnull().sum() #since no null values in any column move to check if there are any duplicates in LoadID"
   ]
  },
  {
   "cell_type": "code",
   "execution_count": 420,
   "id": "d1532215-1ea8-4319-8279-b0e91a2fadd8",
   "metadata": {},
   "outputs": [
    {
     "data": {
      "text/plain": [
       "0"
      ]
     },
     "execution_count": 420,
     "metadata": {},
     "output_type": "execute_result"
    }
   ],
   "source": [
    "data.duplicated(subset=['LoanID']).sum()"
   ]
  },
  {
   "cell_type": "code",
   "execution_count": 421,
   "id": "c148a9e6-cdea-4d97-a3e8-eebbf1d213c8",
   "metadata": {},
   "outputs": [
    {
     "data": {
      "text/plain": [
       "0"
      ]
     },
     "execution_count": 421,
     "metadata": {},
     "output_type": "execute_result"
    }
   ],
   "source": [
    "data.duplicated().sum() #no duplicates in dataset data looks clean let's move further to our exploratory data analysis"
   ]
  },
  {
   "cell_type": "code",
   "execution_count": 422,
   "id": "8cbbce2d-b63d-48e3-9a34-fc6500e26d6a",
   "metadata": {},
   "outputs": [
    {
     "data": {
      "text/plain": [
       "(255347, 18)"
      ]
     },
     "execution_count": 422,
     "metadata": {},
     "output_type": "execute_result"
    }
   ],
   "source": [
    "data.shape"
   ]
  },
  {
   "cell_type": "code",
   "execution_count": 423,
   "id": "6acb246b-eda5-4b7a-8cf7-f941561655f6",
   "metadata": {},
   "outputs": [
    {
     "data": {
      "text/plain": [
       "Index(['LoanID', 'Age', 'Income', 'LoanAmount', 'CreditScore',\n",
       "       'MonthsEmployed', 'NumCreditLines', 'InterestRate', 'LoanTerm',\n",
       "       'DTIRatio', 'Education', 'EmploymentType', 'MaritalStatus',\n",
       "       'HasMortgage', 'HasDependents', 'LoanPurpose', 'HasCoSigner',\n",
       "       'Default'],\n",
       "      dtype='object')"
      ]
     },
     "execution_count": 423,
     "metadata": {},
     "output_type": "execute_result"
    }
   ],
   "source": [
    "data.columns"
   ]
  },
  {
   "cell_type": "code",
   "execution_count": 424,
   "id": "7f1030e1-6377-457e-b54b-84c0c749fa84",
   "metadata": {},
   "outputs": [
    {
     "data": {
      "text/html": [
       "<div>\n",
       "<style scoped>\n",
       "    .dataframe tbody tr th:only-of-type {\n",
       "        vertical-align: middle;\n",
       "    }\n",
       "\n",
       "    .dataframe tbody tr th {\n",
       "        vertical-align: top;\n",
       "    }\n",
       "\n",
       "    .dataframe thead th {\n",
       "        text-align: right;\n",
       "    }\n",
       "</style>\n",
       "<table border=\"1\" class=\"dataframe\">\n",
       "  <thead>\n",
       "    <tr style=\"text-align: right;\">\n",
       "      <th></th>\n",
       "      <th>LoanID</th>\n",
       "      <th>Age</th>\n",
       "      <th>Income</th>\n",
       "      <th>LoanAmount</th>\n",
       "      <th>CreditScore</th>\n",
       "      <th>MonthsEmployed</th>\n",
       "      <th>NumCreditLines</th>\n",
       "      <th>InterestRate</th>\n",
       "      <th>LoanTerm</th>\n",
       "      <th>DTIRatio</th>\n",
       "      <th>Education</th>\n",
       "      <th>EmploymentType</th>\n",
       "      <th>MaritalStatus</th>\n",
       "      <th>HasMortgage</th>\n",
       "      <th>HasDependents</th>\n",
       "      <th>LoanPurpose</th>\n",
       "      <th>HasCoSigner</th>\n",
       "      <th>Default</th>\n",
       "    </tr>\n",
       "  </thead>\n",
       "  <tbody>\n",
       "    <tr>\n",
       "      <th>0</th>\n",
       "      <td>I38PQUQS96</td>\n",
       "      <td>56</td>\n",
       "      <td>85994</td>\n",
       "      <td>50587</td>\n",
       "      <td>520</td>\n",
       "      <td>80</td>\n",
       "      <td>4</td>\n",
       "      <td>15.23</td>\n",
       "      <td>36</td>\n",
       "      <td>0.44</td>\n",
       "      <td>Bachelor's</td>\n",
       "      <td>Full-time</td>\n",
       "      <td>Divorced</td>\n",
       "      <td>Yes</td>\n",
       "      <td>Yes</td>\n",
       "      <td>Other</td>\n",
       "      <td>Yes</td>\n",
       "      <td>0</td>\n",
       "    </tr>\n",
       "    <tr>\n",
       "      <th>1</th>\n",
       "      <td>HPSK72WA7R</td>\n",
       "      <td>69</td>\n",
       "      <td>50432</td>\n",
       "      <td>124440</td>\n",
       "      <td>458</td>\n",
       "      <td>15</td>\n",
       "      <td>1</td>\n",
       "      <td>4.81</td>\n",
       "      <td>60</td>\n",
       "      <td>0.68</td>\n",
       "      <td>Master's</td>\n",
       "      <td>Full-time</td>\n",
       "      <td>Married</td>\n",
       "      <td>No</td>\n",
       "      <td>No</td>\n",
       "      <td>Other</td>\n",
       "      <td>Yes</td>\n",
       "      <td>0</td>\n",
       "    </tr>\n",
       "    <tr>\n",
       "      <th>2</th>\n",
       "      <td>C1OZ6DPJ8Y</td>\n",
       "      <td>46</td>\n",
       "      <td>84208</td>\n",
       "      <td>129188</td>\n",
       "      <td>451</td>\n",
       "      <td>26</td>\n",
       "      <td>3</td>\n",
       "      <td>21.17</td>\n",
       "      <td>24</td>\n",
       "      <td>0.31</td>\n",
       "      <td>Master's</td>\n",
       "      <td>Unemployed</td>\n",
       "      <td>Divorced</td>\n",
       "      <td>Yes</td>\n",
       "      <td>Yes</td>\n",
       "      <td>Auto</td>\n",
       "      <td>No</td>\n",
       "      <td>1</td>\n",
       "    </tr>\n",
       "    <tr>\n",
       "      <th>3</th>\n",
       "      <td>V2KKSFM3UN</td>\n",
       "      <td>32</td>\n",
       "      <td>31713</td>\n",
       "      <td>44799</td>\n",
       "      <td>743</td>\n",
       "      <td>0</td>\n",
       "      <td>3</td>\n",
       "      <td>7.07</td>\n",
       "      <td>24</td>\n",
       "      <td>0.23</td>\n",
       "      <td>High School</td>\n",
       "      <td>Full-time</td>\n",
       "      <td>Married</td>\n",
       "      <td>No</td>\n",
       "      <td>No</td>\n",
       "      <td>Business</td>\n",
       "      <td>No</td>\n",
       "      <td>0</td>\n",
       "    </tr>\n",
       "    <tr>\n",
       "      <th>4</th>\n",
       "      <td>EY08JDHTZP</td>\n",
       "      <td>60</td>\n",
       "      <td>20437</td>\n",
       "      <td>9139</td>\n",
       "      <td>633</td>\n",
       "      <td>8</td>\n",
       "      <td>4</td>\n",
       "      <td>6.51</td>\n",
       "      <td>48</td>\n",
       "      <td>0.73</td>\n",
       "      <td>Bachelor's</td>\n",
       "      <td>Unemployed</td>\n",
       "      <td>Divorced</td>\n",
       "      <td>No</td>\n",
       "      <td>Yes</td>\n",
       "      <td>Auto</td>\n",
       "      <td>No</td>\n",
       "      <td>0</td>\n",
       "    </tr>\n",
       "  </tbody>\n",
       "</table>\n",
       "</div>"
      ],
      "text/plain": [
       "       LoanID  Age  Income  LoanAmount  CreditScore  MonthsEmployed  \\\n",
       "0  I38PQUQS96   56   85994       50587          520              80   \n",
       "1  HPSK72WA7R   69   50432      124440          458              15   \n",
       "2  C1OZ6DPJ8Y   46   84208      129188          451              26   \n",
       "3  V2KKSFM3UN   32   31713       44799          743               0   \n",
       "4  EY08JDHTZP   60   20437        9139          633               8   \n",
       "\n",
       "   NumCreditLines  InterestRate  LoanTerm  DTIRatio    Education  \\\n",
       "0               4         15.23        36      0.44   Bachelor's   \n",
       "1               1          4.81        60      0.68     Master's   \n",
       "2               3         21.17        24      0.31     Master's   \n",
       "3               3          7.07        24      0.23  High School   \n",
       "4               4          6.51        48      0.73   Bachelor's   \n",
       "\n",
       "  EmploymentType MaritalStatus HasMortgage HasDependents LoanPurpose  \\\n",
       "0      Full-time      Divorced         Yes           Yes       Other   \n",
       "1      Full-time       Married          No            No       Other   \n",
       "2     Unemployed      Divorced         Yes           Yes        Auto   \n",
       "3      Full-time       Married          No            No    Business   \n",
       "4     Unemployed      Divorced          No           Yes        Auto   \n",
       "\n",
       "  HasCoSigner  Default  \n",
       "0         Yes        0  \n",
       "1         Yes        0  \n",
       "2          No        1  \n",
       "3          No        0  \n",
       "4          No        0  "
      ]
     },
     "execution_count": 424,
     "metadata": {},
     "output_type": "execute_result"
    }
   ],
   "source": [
    "data.head()"
   ]
  },
  {
   "cell_type": "code",
   "execution_count": 428,
   "id": "9524ab31-7054-4888-9e80-a6f4bdda5d39",
   "metadata": {},
   "outputs": [
    {
     "data": {
      "text/html": [
       "<div>\n",
       "<style scoped>\n",
       "    .dataframe tbody tr th:only-of-type {\n",
       "        vertical-align: middle;\n",
       "    }\n",
       "\n",
       "    .dataframe tbody tr th {\n",
       "        vertical-align: top;\n",
       "    }\n",
       "\n",
       "    .dataframe thead th {\n",
       "        text-align: right;\n",
       "    }\n",
       "</style>\n",
       "<table border=\"1\" class=\"dataframe\">\n",
       "  <thead>\n",
       "    <tr style=\"text-align: right;\">\n",
       "      <th></th>\n",
       "      <th>LoanID</th>\n",
       "      <th>Age</th>\n",
       "      <th>Income</th>\n",
       "      <th>LoanAmount</th>\n",
       "      <th>CreditScore</th>\n",
       "      <th>MonthsEmployed</th>\n",
       "      <th>NumCreditLines</th>\n",
       "      <th>InterestRate</th>\n",
       "      <th>LoanTerm</th>\n",
       "      <th>DTIRatio</th>\n",
       "      <th>Education</th>\n",
       "      <th>EmploymentType</th>\n",
       "      <th>MaritalStatus</th>\n",
       "      <th>HasMortgage</th>\n",
       "      <th>HasDependents</th>\n",
       "      <th>LoanPurpose</th>\n",
       "      <th>HasCoSigner</th>\n",
       "      <th>Default</th>\n",
       "    </tr>\n",
       "  </thead>\n",
       "  <tbody>\n",
       "    <tr>\n",
       "      <th>255342</th>\n",
       "      <td>8C6S86ESGC</td>\n",
       "      <td>19</td>\n",
       "      <td>37979</td>\n",
       "      <td>210682</td>\n",
       "      <td>541</td>\n",
       "      <td>109</td>\n",
       "      <td>4</td>\n",
       "      <td>14.11</td>\n",
       "      <td>12</td>\n",
       "      <td>0.85</td>\n",
       "      <td>Bachelor's</td>\n",
       "      <td>Full-time</td>\n",
       "      <td>Married</td>\n",
       "      <td>No</td>\n",
       "      <td>No</td>\n",
       "      <td>Other</td>\n",
       "      <td>No</td>\n",
       "      <td>0</td>\n",
       "    </tr>\n",
       "    <tr>\n",
       "      <th>255343</th>\n",
       "      <td>98R4KDHNND</td>\n",
       "      <td>32</td>\n",
       "      <td>51953</td>\n",
       "      <td>189899</td>\n",
       "      <td>511</td>\n",
       "      <td>14</td>\n",
       "      <td>2</td>\n",
       "      <td>11.55</td>\n",
       "      <td>24</td>\n",
       "      <td>0.21</td>\n",
       "      <td>High School</td>\n",
       "      <td>Part-time</td>\n",
       "      <td>Divorced</td>\n",
       "      <td>No</td>\n",
       "      <td>No</td>\n",
       "      <td>Home</td>\n",
       "      <td>No</td>\n",
       "      <td>1</td>\n",
       "    </tr>\n",
       "    <tr>\n",
       "      <th>255344</th>\n",
       "      <td>XQK1UUUNGP</td>\n",
       "      <td>56</td>\n",
       "      <td>84820</td>\n",
       "      <td>208294</td>\n",
       "      <td>597</td>\n",
       "      <td>70</td>\n",
       "      <td>3</td>\n",
       "      <td>5.29</td>\n",
       "      <td>60</td>\n",
       "      <td>0.50</td>\n",
       "      <td>High School</td>\n",
       "      <td>Self-employed</td>\n",
       "      <td>Married</td>\n",
       "      <td>Yes</td>\n",
       "      <td>Yes</td>\n",
       "      <td>Auto</td>\n",
       "      <td>Yes</td>\n",
       "      <td>0</td>\n",
       "    </tr>\n",
       "    <tr>\n",
       "      <th>255345</th>\n",
       "      <td>JAO28CPL4H</td>\n",
       "      <td>42</td>\n",
       "      <td>85109</td>\n",
       "      <td>60575</td>\n",
       "      <td>809</td>\n",
       "      <td>40</td>\n",
       "      <td>1</td>\n",
       "      <td>20.90</td>\n",
       "      <td>48</td>\n",
       "      <td>0.44</td>\n",
       "      <td>High School</td>\n",
       "      <td>Part-time</td>\n",
       "      <td>Single</td>\n",
       "      <td>Yes</td>\n",
       "      <td>Yes</td>\n",
       "      <td>Other</td>\n",
       "      <td>No</td>\n",
       "      <td>0</td>\n",
       "    </tr>\n",
       "    <tr>\n",
       "      <th>255346</th>\n",
       "      <td>ZTH91CGL0B</td>\n",
       "      <td>62</td>\n",
       "      <td>22418</td>\n",
       "      <td>18481</td>\n",
       "      <td>636</td>\n",
       "      <td>113</td>\n",
       "      <td>2</td>\n",
       "      <td>6.73</td>\n",
       "      <td>12</td>\n",
       "      <td>0.48</td>\n",
       "      <td>Bachelor's</td>\n",
       "      <td>Unemployed</td>\n",
       "      <td>Divorced</td>\n",
       "      <td>Yes</td>\n",
       "      <td>No</td>\n",
       "      <td>Education</td>\n",
       "      <td>Yes</td>\n",
       "      <td>0</td>\n",
       "    </tr>\n",
       "  </tbody>\n",
       "</table>\n",
       "</div>"
      ],
      "text/plain": [
       "            LoanID  Age  Income  LoanAmount  CreditScore  MonthsEmployed  \\\n",
       "255342  8C6S86ESGC   19   37979      210682          541             109   \n",
       "255343  98R4KDHNND   32   51953      189899          511              14   \n",
       "255344  XQK1UUUNGP   56   84820      208294          597              70   \n",
       "255345  JAO28CPL4H   42   85109       60575          809              40   \n",
       "255346  ZTH91CGL0B   62   22418       18481          636             113   \n",
       "\n",
       "        NumCreditLines  InterestRate  LoanTerm  DTIRatio    Education  \\\n",
       "255342               4         14.11        12      0.85   Bachelor's   \n",
       "255343               2         11.55        24      0.21  High School   \n",
       "255344               3          5.29        60      0.50  High School   \n",
       "255345               1         20.90        48      0.44  High School   \n",
       "255346               2          6.73        12      0.48   Bachelor's   \n",
       "\n",
       "       EmploymentType MaritalStatus HasMortgage HasDependents LoanPurpose  \\\n",
       "255342      Full-time       Married          No            No       Other   \n",
       "255343      Part-time      Divorced          No            No        Home   \n",
       "255344  Self-employed       Married         Yes           Yes        Auto   \n",
       "255345      Part-time        Single         Yes           Yes       Other   \n",
       "255346     Unemployed      Divorced         Yes            No   Education   \n",
       "\n",
       "       HasCoSigner  Default  \n",
       "255342          No        0  \n",
       "255343          No        1  \n",
       "255344         Yes        0  \n",
       "255345          No        0  \n",
       "255346         Yes        0  "
      ]
     },
     "execution_count": 428,
     "metadata": {},
     "output_type": "execute_result"
    }
   ],
   "source": [
    "data.tail()"
   ]
  },
  {
   "cell_type": "code",
   "execution_count": 430,
   "id": "1366e36e-6a9d-41b4-94dd-2804ff483808",
   "metadata": {},
   "outputs": [
    {
     "data": {
      "text/plain": [
       "LoanID             B3HP1RXJD2\n",
       "Age                        33\n",
       "Income                 140328\n",
       "LoanAmount              69711\n",
       "CreditScore               826\n",
       "MonthsEmployed             49\n",
       "NumCreditLines              2\n",
       "InterestRate            23.01\n",
       "LoanTerm                   48\n",
       "DTIRatio                 0.75\n",
       "Education         High School\n",
       "EmploymentType     Unemployed\n",
       "MaritalStatus         Married\n",
       "HasMortgage                No\n",
       "HasDependents             Yes\n",
       "LoanPurpose              Auto\n",
       "HasCoSigner                No\n",
       "Default                     0\n",
       "Name: 255, dtype: object"
      ]
     },
     "execution_count": 430,
     "metadata": {},
     "output_type": "execute_result"
    }
   ],
   "source": [
    "data.loc[255] #fetch and analize random row using label-based indexing method"
   ]
  },
  {
   "cell_type": "markdown",
   "id": "b35ddd47-b01a-41e9-9d59-57cb656d91f9",
   "metadata": {},
   "source": [
    "### Data Transformation – Scaling, encoding, or creating new features"
   ]
  },
  {
   "cell_type": "code",
   "execution_count": 432,
   "id": "7c2e9783-1c05-420d-9340-6f4c397ef9cb",
   "metadata": {
    "scrolled": true
   },
   "outputs": [
    {
     "data": {
      "text/html": [
       "<div>\n",
       "<style scoped>\n",
       "    .dataframe tbody tr th:only-of-type {\n",
       "        vertical-align: middle;\n",
       "    }\n",
       "\n",
       "    .dataframe tbody tr th {\n",
       "        vertical-align: top;\n",
       "    }\n",
       "\n",
       "    .dataframe thead th {\n",
       "        text-align: right;\n",
       "    }\n",
       "</style>\n",
       "<table border=\"1\" class=\"dataframe\">\n",
       "  <thead>\n",
       "    <tr style=\"text-align: right;\">\n",
       "      <th></th>\n",
       "      <th>LoanID</th>\n",
       "      <th>Age</th>\n",
       "      <th>Income</th>\n",
       "      <th>LoanAmount</th>\n",
       "      <th>CreditScore</th>\n",
       "      <th>MonthsEmployed</th>\n",
       "      <th>NumCreditLines</th>\n",
       "      <th>InterestRate</th>\n",
       "      <th>LoanTerm</th>\n",
       "      <th>DTIRatio</th>\n",
       "      <th>...</th>\n",
       "      <th>HasCoSigner</th>\n",
       "      <th>Default</th>\n",
       "      <th>LoantoIncomeRatio</th>\n",
       "      <th>MonthlyPayment</th>\n",
       "      <th>EmploymentStability</th>\n",
       "      <th>IsYoungHighLoan</th>\n",
       "      <th>IsSingleWithDependents</th>\n",
       "      <th>HasFinancialSupport</th>\n",
       "      <th>HighDTI</th>\n",
       "      <th>LoanPurposeGroup</th>\n",
       "    </tr>\n",
       "  </thead>\n",
       "  <tbody>\n",
       "    <tr>\n",
       "      <th>0</th>\n",
       "      <td>I38PQUQS96</td>\n",
       "      <td>56</td>\n",
       "      <td>85994</td>\n",
       "      <td>50587</td>\n",
       "      <td>520</td>\n",
       "      <td>80</td>\n",
       "      <td>4</td>\n",
       "      <td>15.23</td>\n",
       "      <td>36</td>\n",
       "      <td>0.44</td>\n",
       "      <td>...</td>\n",
       "      <td>Yes</td>\n",
       "      <td>0</td>\n",
       "      <td>0.59</td>\n",
       "      <td>1619.21</td>\n",
       "      <td>90</td>\n",
       "      <td>0</td>\n",
       "      <td>0</td>\n",
       "      <td>1</td>\n",
       "      <td>0</td>\n",
       "      <td>Discretionary</td>\n",
       "    </tr>\n",
       "    <tr>\n",
       "      <th>1</th>\n",
       "      <td>HPSK72WA7R</td>\n",
       "      <td>69</td>\n",
       "      <td>50432</td>\n",
       "      <td>124440</td>\n",
       "      <td>458</td>\n",
       "      <td>15</td>\n",
       "      <td>1</td>\n",
       "      <td>4.81</td>\n",
       "      <td>60</td>\n",
       "      <td>0.68</td>\n",
       "      <td>...</td>\n",
       "      <td>Yes</td>\n",
       "      <td>0</td>\n",
       "      <td>2.47</td>\n",
       "      <td>2173.76</td>\n",
       "      <td>25</td>\n",
       "      <td>0</td>\n",
       "      <td>0</td>\n",
       "      <td>1</td>\n",
       "      <td>1</td>\n",
       "      <td>Discretionary</td>\n",
       "    </tr>\n",
       "    <tr>\n",
       "      <th>2</th>\n",
       "      <td>C1OZ6DPJ8Y</td>\n",
       "      <td>46</td>\n",
       "      <td>84208</td>\n",
       "      <td>129188</td>\n",
       "      <td>451</td>\n",
       "      <td>26</td>\n",
       "      <td>3</td>\n",
       "      <td>21.17</td>\n",
       "      <td>24</td>\n",
       "      <td>0.31</td>\n",
       "      <td>...</td>\n",
       "      <td>No</td>\n",
       "      <td>1</td>\n",
       "      <td>1.53</td>\n",
       "      <td>6522.38</td>\n",
       "      <td>16</td>\n",
       "      <td>0</td>\n",
       "      <td>0</td>\n",
       "      <td>0</td>\n",
       "      <td>0</td>\n",
       "      <td>Essential</td>\n",
       "    </tr>\n",
       "    <tr>\n",
       "      <th>3</th>\n",
       "      <td>V2KKSFM3UN</td>\n",
       "      <td>32</td>\n",
       "      <td>31713</td>\n",
       "      <td>44799</td>\n",
       "      <td>743</td>\n",
       "      <td>0</td>\n",
       "      <td>3</td>\n",
       "      <td>7.07</td>\n",
       "      <td>24</td>\n",
       "      <td>0.23</td>\n",
       "      <td>...</td>\n",
       "      <td>No</td>\n",
       "      <td>0</td>\n",
       "      <td>1.41</td>\n",
       "      <td>1998.60</td>\n",
       "      <td>10</td>\n",
       "      <td>0</td>\n",
       "      <td>0</td>\n",
       "      <td>1</td>\n",
       "      <td>0</td>\n",
       "      <td>Discretionary</td>\n",
       "    </tr>\n",
       "    <tr>\n",
       "      <th>4</th>\n",
       "      <td>EY08JDHTZP</td>\n",
       "      <td>60</td>\n",
       "      <td>20437</td>\n",
       "      <td>9139</td>\n",
       "      <td>633</td>\n",
       "      <td>8</td>\n",
       "      <td>4</td>\n",
       "      <td>6.51</td>\n",
       "      <td>48</td>\n",
       "      <td>0.73</td>\n",
       "      <td>...</td>\n",
       "      <td>No</td>\n",
       "      <td>0</td>\n",
       "      <td>0.45</td>\n",
       "      <td>202.79</td>\n",
       "      <td>-2</td>\n",
       "      <td>0</td>\n",
       "      <td>0</td>\n",
       "      <td>0</td>\n",
       "      <td>1</td>\n",
       "      <td>Essential</td>\n",
       "    </tr>\n",
       "  </tbody>\n",
       "</table>\n",
       "<p>5 rows × 26 columns</p>\n",
       "</div>"
      ],
      "text/plain": [
       "       LoanID  Age  Income  LoanAmount  CreditScore  MonthsEmployed  \\\n",
       "0  I38PQUQS96   56   85994       50587          520              80   \n",
       "1  HPSK72WA7R   69   50432      124440          458              15   \n",
       "2  C1OZ6DPJ8Y   46   84208      129188          451              26   \n",
       "3  V2KKSFM3UN   32   31713       44799          743               0   \n",
       "4  EY08JDHTZP   60   20437        9139          633               8   \n",
       "\n",
       "   NumCreditLines  InterestRate  LoanTerm  DTIRatio  ... HasCoSigner Default  \\\n",
       "0               4         15.23        36      0.44  ...         Yes       0   \n",
       "1               1          4.81        60      0.68  ...         Yes       0   \n",
       "2               3         21.17        24      0.31  ...          No       1   \n",
       "3               3          7.07        24      0.23  ...          No       0   \n",
       "4               4          6.51        48      0.73  ...          No       0   \n",
       "\n",
       "  LoantoIncomeRatio MonthlyPayment EmploymentStability IsYoungHighLoan  \\\n",
       "0              0.59        1619.21                  90               0   \n",
       "1              2.47        2173.76                  25               0   \n",
       "2              1.53        6522.38                  16               0   \n",
       "3              1.41        1998.60                  10               0   \n",
       "4              0.45         202.79                  -2               0   \n",
       "\n",
       "  IsSingleWithDependents  HasFinancialSupport  HighDTI  LoanPurposeGroup  \n",
       "0                      0                    1        0     Discretionary  \n",
       "1                      0                    1        1     Discretionary  \n",
       "2                      0                    0        0         Essential  \n",
       "3                      0                    1        0     Discretionary  \n",
       "4                      0                    0        1         Essential  \n",
       "\n",
       "[5 rows x 26 columns]"
      ]
     },
     "execution_count": 432,
     "metadata": {},
     "output_type": "execute_result"
    }
   ],
   "source": [
    "#let's create some new columns using feature engineering:-\n",
    "\n",
    "#shows whether loan is bigger then the income of applicant.\n",
    "data['LoantoIncomeRatio'] = round(data['LoanAmount'] / data['Income'],2)\n",
    "\n",
    "#shows an estimate of how much the borrower must pay every month. If it's a big chunk of income it can effect repayment capability.\n",
    "data['MonthlyPayment'] = round(data['LoanAmount'] * (1 + (data['InterestRate'] / 100)) / data['LoanTerm'],2)\n",
    "\n",
    "# shows how stable job score of a person\n",
    "def employment_stability(row):\n",
    "    score = row['MonthsEmployed']\n",
    "    if row['EmploymentType'] == 'Full-time':\n",
    "        score += 10\n",
    "    elif row['EmploymentType'] == 'Part-time':\n",
    "        score += 5\n",
    "    elif row['EmploymentType'] == 'Unemployed':\n",
    "        score -= 10\n",
    "    return score\n",
    "\n",
    "data['EmploymentStability'] = data.apply(employment_stability, axis=1)\n",
    "\n",
    "#shows risky young borrowers with large loans\n",
    "data['IsYoungHighLoan'] = ((data['Age']<25) & (data['LoanAmount']>150000)).astype(int)\n",
    "\n",
    "#shows if person have dependent then it will increase chances of being default\n",
    "data['IsSingleWithDependents'] = ((data['MaritalStatus'] == 'Single') & (data['HasDependents'] == 'Yes')).astype(int)\n",
    "\n",
    "#shows if a person have co signer or with spuses might default less\n",
    "data['HasFinancialSupport'] = ((data['HasCoSigner'] == 'Yes') | (data['MaritalStatus'] == 'Married')).astype(int)\n",
    "\n",
    "#shows if Debt-to-Income ratio is over 0.5 often indicates risk of being default\n",
    "data['HighDTI'] = (data['DTIRatio'] > 0.5).astype(int)\n",
    "\n",
    "#shows if the person is using loan for which purpose and mark them Essential or Discretionary\n",
    "def purpose_group(purpose):\n",
    "    if purpose in ['Home', 'Education', 'Auto']:\n",
    "        return 'Essential'\n",
    "    else:\n",
    "        return 'Discretionary'\n",
    "\n",
    "data['LoanPurposeGroup'] = data['LoanPurpose'].apply(purpose_group)\n",
    "\n",
    "data.head()"
   ]
  },
  {
   "cell_type": "markdown",
   "id": "e46a4074-a842-4d87-9150-4e5e8128bb5f",
   "metadata": {},
   "source": [
    "## Analysis for feature engineering"
   ]
  },
  {
   "cell_type": "code",
   "execution_count": 438,
   "id": "8842418f-c7e2-452a-8ba9-a729d2a8ba94",
   "metadata": {},
   "outputs": [
    {
     "data": {
      "text/plain": [
       "array(['Other', 'Auto', 'Business', 'Home', 'Education'], dtype=object)"
      ]
     },
     "execution_count": 438,
     "metadata": {},
     "output_type": "execute_result"
    }
   ],
   "source": [
    "data[\"LoanPurpose\"].unique()"
   ]
  },
  {
   "cell_type": "code",
   "execution_count": 440,
   "id": "2abf1903-c57d-42c8-bea5-c175dd4fee14",
   "metadata": {},
   "outputs": [
    {
     "data": {
      "text/plain": [
       "127578.86551242035"
      ]
     },
     "execution_count": 440,
     "metadata": {},
     "output_type": "execute_result"
    }
   ],
   "source": [
    "data['LoanAmount'].mean()"
   ]
  },
  {
   "cell_type": "code",
   "execution_count": 442,
   "id": "a3afc514-dbed-42a1-ad9c-66f70cbbf0f0",
   "metadata": {},
   "outputs": [
    {
     "data": {
      "text/plain": [
       "249999"
      ]
     },
     "execution_count": 442,
     "metadata": {},
     "output_type": "execute_result"
    }
   ],
   "source": [
    "data['LoanAmount'].max()"
   ]
  },
  {
   "cell_type": "code",
   "execution_count": 443,
   "id": "2a58d3f4-8cd0-4f13-ba54-957e931f8875",
   "metadata": {},
   "outputs": [
    {
     "data": {
      "text/plain": [
       "127556.0"
      ]
     },
     "execution_count": 443,
     "metadata": {},
     "output_type": "execute_result"
    }
   ],
   "source": [
    "data['LoanAmount'].median()"
   ]
  },
  {
   "cell_type": "code",
   "execution_count": 444,
   "id": "d16b6f82-7886-4252-9099-1c9d0bbfbfb7",
   "metadata": {},
   "outputs": [
    {
     "data": {
      "text/plain": [
       "0     95419\n",
       "1    133724\n",
       "2    221949\n",
       "Name: LoanAmount, dtype: int64"
      ]
     },
     "execution_count": 444,
     "metadata": {},
     "output_type": "execute_result"
    }
   ],
   "source": [
    "data['LoanAmount'].mode()"
   ]
  },
  {
   "cell_type": "code",
   "execution_count": 445,
   "id": "71e47901-2d7b-453a-8c0a-c3b4343533b6",
   "metadata": {},
   "outputs": [
    {
     "data": {
      "text/plain": [
       "IsYoungHighLoan\n",
       "0    241361\n",
       "1     13986\n",
       "Name: count, dtype: int64"
      ]
     },
     "execution_count": 445,
     "metadata": {},
     "output_type": "execute_result"
    }
   ],
   "source": [
    "data['IsYoungHighLoan'].value_counts()"
   ]
  },
  {
   "cell_type": "markdown",
   "id": "bf7b53ef-ce35-4ad0-8ae1-3d5b86b55c5e",
   "metadata": {},
   "source": [
    "### Let's see if there is any outlier\n",
    "\n",
    "- #### Hanling outliers\n",
    "- #### Inaccurate data"
   ]
  },
  {
   "cell_type": "code",
   "execution_count": 447,
   "id": "5bc5fa16-85a0-4b69-b112-31e4135699f9",
   "metadata": {},
   "outputs": [
    {
     "data": {
      "text/plain": [
       "LoanID                     object\n",
       "Age                         int64\n",
       "Income                      int64\n",
       "LoanAmount                  int64\n",
       "CreditScore                 int64\n",
       "MonthsEmployed              int64\n",
       "NumCreditLines              int64\n",
       "InterestRate              float64\n",
       "LoanTerm                    int64\n",
       "DTIRatio                  float64\n",
       "Education                  object\n",
       "EmploymentType             object\n",
       "MaritalStatus              object\n",
       "HasMortgage                object\n",
       "HasDependents              object\n",
       "LoanPurpose                object\n",
       "HasCoSigner                object\n",
       "Default                     int64\n",
       "LoantoIncomeRatio         float64\n",
       "MonthlyPayment            float64\n",
       "EmploymentStability         int64\n",
       "IsYoungHighLoan             int32\n",
       "IsSingleWithDependents      int32\n",
       "HasFinancialSupport         int32\n",
       "HighDTI                     int32\n",
       "LoanPurposeGroup           object\n",
       "dtype: object"
      ]
     },
     "execution_count": 447,
     "metadata": {},
     "output_type": "execute_result"
    }
   ],
   "source": [
    "data.dtypes"
   ]
  },
  {
   "cell_type": "code",
   "execution_count": 521,
   "id": "b65b48c6-1ab2-4f87-9878-f0eff00596d1",
   "metadata": {},
   "outputs": [],
   "source": [
    "numerical_cols = data[['Age', 'Income', 'LoanAmount', 'CreditScore', 'MonthsEmployed',\n",
    "       'NumCreditLines', 'InterestRate', 'LoanTerm', 'DTIRatio',\n",
    "       'LoantoIncomeRatio', 'MonthlyPayment', 'EmploymentStability']]\n"
   ]
  },
  {
   "cell_type": "code",
   "execution_count": 449,
   "id": "a77f78ac-c0d0-42b2-9562-27dab6f9fbca",
   "metadata": {},
   "outputs": [
    {
     "name": "stdout",
     "output_type": "stream",
     "text": [
      "Age: 0 outliers\n",
      "Income: 0 outliers\n",
      "LoanAmount: 0 outliers\n",
      "CreditScore: 0 outliers\n",
      "MonthsEmployed: 0 outliers\n",
      "NumCreditLines: 0 outliers\n",
      "InterestRate: 0 outliers\n",
      "LoanTerm: 0 outliers\n",
      "DTIRatio: 0 outliers\n",
      "LoantoIncomeRatio: 19871 outliers\n",
      "MonthlyPayment: 20507 outliers\n",
      "EmploymentStability: 0 outliers\n"
     ]
    }
   ],
   "source": [
    "for col in numerical_cols:\n",
    "    Q1 = data[col].quantile(0.25)\n",
    "    Q3 = data[col].quantile(0.75)\n",
    "    IQR = Q3 - Q1\n",
    "    lower_bound = Q1 - 1.5 * IQR\n",
    "    upper_bound = Q3 + 1.5 * IQR\n",
    "    outliers = data[(data[col] < lower_bound) | (data[col] > upper_bound)]\n",
    "    print(f\"{col}: {len(outliers)} outliers\")\n"
   ]
  },
  {
   "cell_type": "code",
   "execution_count": 450,
   "id": "94ba2f0c-f411-4940-9c15-e7c2e85df81c",
   "metadata": {},
   "outputs": [
    {
     "data": {
      "text/html": [
       "<div>\n",
       "<style scoped>\n",
       "    .dataframe tbody tr th:only-of-type {\n",
       "        vertical-align: middle;\n",
       "    }\n",
       "\n",
       "    .dataframe tbody tr th {\n",
       "        vertical-align: top;\n",
       "    }\n",
       "\n",
       "    .dataframe thead th {\n",
       "        text-align: right;\n",
       "    }\n",
       "</style>\n",
       "<table border=\"1\" class=\"dataframe\">\n",
       "  <thead>\n",
       "    <tr style=\"text-align: right;\">\n",
       "      <th></th>\n",
       "      <th>LoantoIncomeRatio</th>\n",
       "      <th>MonthlyPayment</th>\n",
       "    </tr>\n",
       "  </thead>\n",
       "  <tbody>\n",
       "    <tr>\n",
       "      <th>0</th>\n",
       "      <td>0.59</td>\n",
       "      <td>1619.21</td>\n",
       "    </tr>\n",
       "    <tr>\n",
       "      <th>1</th>\n",
       "      <td>2.47</td>\n",
       "      <td>2173.76</td>\n",
       "    </tr>\n",
       "    <tr>\n",
       "      <th>2</th>\n",
       "      <td>1.53</td>\n",
       "      <td>6522.38</td>\n",
       "    </tr>\n",
       "    <tr>\n",
       "      <th>3</th>\n",
       "      <td>1.41</td>\n",
       "      <td>1998.60</td>\n",
       "    </tr>\n",
       "    <tr>\n",
       "      <th>4</th>\n",
       "      <td>0.45</td>\n",
       "      <td>202.79</td>\n",
       "    </tr>\n",
       "    <tr>\n",
       "      <th>...</th>\n",
       "      <td>...</td>\n",
       "      <td>...</td>\n",
       "    </tr>\n",
       "    <tr>\n",
       "      <th>255342</th>\n",
       "      <td>5.55</td>\n",
       "      <td>20034.10</td>\n",
       "    </tr>\n",
       "    <tr>\n",
       "      <th>255343</th>\n",
       "      <td>3.66</td>\n",
       "      <td>8826.35</td>\n",
       "    </tr>\n",
       "    <tr>\n",
       "      <th>255344</th>\n",
       "      <td>2.46</td>\n",
       "      <td>3655.21</td>\n",
       "    </tr>\n",
       "    <tr>\n",
       "      <th>255345</th>\n",
       "      <td>0.71</td>\n",
       "      <td>1525.73</td>\n",
       "    </tr>\n",
       "    <tr>\n",
       "      <th>255346</th>\n",
       "      <td>0.82</td>\n",
       "      <td>1643.73</td>\n",
       "    </tr>\n",
       "  </tbody>\n",
       "</table>\n",
       "<p>255347 rows × 2 columns</p>\n",
       "</div>"
      ],
      "text/plain": [
       "        LoantoIncomeRatio  MonthlyPayment\n",
       "0                    0.59         1619.21\n",
       "1                    2.47         2173.76\n",
       "2                    1.53         6522.38\n",
       "3                    1.41         1998.60\n",
       "4                    0.45          202.79\n",
       "...                   ...             ...\n",
       "255342               5.55        20034.10\n",
       "255343               3.66         8826.35\n",
       "255344               2.46         3655.21\n",
       "255345               0.71         1525.73\n",
       "255346               0.82         1643.73\n",
       "\n",
       "[255347 rows x 2 columns]"
      ]
     },
     "execution_count": 450,
     "metadata": {},
     "output_type": "execute_result"
    }
   ],
   "source": [
    "data[['LoantoIncomeRatio','MonthlyPayment']] #these two columns shows outliers let's visualize to see if they really are outliers."
   ]
  },
  {
   "cell_type": "code",
   "execution_count": 451,
   "id": "efbac894-587d-4e79-a9bb-8462dda251bd",
   "metadata": {},
   "outputs": [
    {
     "data": {
      "image/png": "[encoded data removed]",
      "text/plain": [
       "<Figure size 640x480 with 1 Axes>"
      ]
     },
     "metadata": {},
     "output_type": "display_data"
    }
   ],
   "source": [
    "sns.boxplot(data = data['LoantoIncomeRatio'])\n",
    "plt.show()"
   ]
  },
  {
   "cell_type": "code",
   "execution_count": 452,
   "id": "afd38639-69bd-4b9a-9a7d-bd40c8cf28e7",
   "metadata": {},
   "outputs": [
    {
     "data": {
      "text/plain": [
       "count    255347.000000\n",
       "mean          2.177481\n",
       "std           2.178361\n",
       "min           0.030000\n",
       "50%           1.550000\n",
       "95%           6.730000\n",
       "99%          10.980000\n",
       "max          16.530000\n",
       "Name: LoantoIncomeRatio, dtype: float64"
      ]
     },
     "execution_count": 452,
     "metadata": {},
     "output_type": "execute_result"
    }
   ],
   "source": [
    "data['LoantoIncomeRatio'].describe(percentiles=[0.95, 0.99])\n"
   ]
  },
  {
   "cell_type": "code",
   "execution_count": 453,
   "id": "d8f203e1-cb09-4aa0-8731-6ae54030bafc",
   "metadata": {},
   "outputs": [],
   "source": [
    "cap = 10.98 # already computed above\n",
    "data['LtI_cap'] = np.where(data['LoantoIncomeRatio'] > cap,cap,data['LoantoIncomeRatio'])"
   ]
  },
  {
   "cell_type": "code",
   "execution_count": 454,
   "id": "3538348e-a8e1-43ab-b784-4d75ed628d00",
   "metadata": {},
   "outputs": [],
   "source": [
    "data['LtI_log'] = np.log1p(data['LtI_cap'])"
   ]
  },
  {
   "cell_type": "code",
   "execution_count": 455,
   "id": "ff1f493d-949c-45f7-871f-70c6cd904a2f",
   "metadata": {},
   "outputs": [
    {
     "data": {
      "text/plain": [
       "Index(['LoanID', 'Age', 'Income', 'LoanAmount', 'CreditScore',\n",
       "       'MonthsEmployed', 'NumCreditLines', 'InterestRate', 'LoanTerm',\n",
       "       'DTIRatio', 'Education', 'EmploymentType', 'MaritalStatus',\n",
       "       'HasMortgage', 'HasDependents', 'LoanPurpose', 'HasCoSigner', 'Default',\n",
       "       'LoantoIncomeRatio', 'MonthlyPayment', 'EmploymentStability',\n",
       "       'IsYoungHighLoan', 'IsSingleWithDependents', 'HasFinancialSupport',\n",
       "       'HighDTI', 'LoanPurposeGroup', 'LtI_cap', 'LtI_log'],\n",
       "      dtype='object')"
      ]
     },
     "execution_count": 455,
     "metadata": {},
     "output_type": "execute_result"
    }
   ],
   "source": [
    "data.columns"
   ]
  },
  {
   "cell_type": "code",
   "execution_count": 456,
   "id": "61b2efff-3c72-47fd-aa13-04f81d9dafeb",
   "metadata": {},
   "outputs": [
    {
     "data": {
      "image/png": "[encoded data removed]",
      "text/plain": [
       "<Figure size 900x300 with 2 Axes>"
      ]
     },
     "metadata": {},
     "output_type": "display_data"
    }
   ],
   "source": [
    "fig, ax = plt.subplots(1,2, figsize=(9,3))\n",
    "sns.boxplot(x=data['LtI_cap'], ax=ax[0]); ax[0].set_title('After capping')\n",
    "sns.boxplot(x=data['LtI_cap'], ax=ax[1]); ax[1].set_title('After log')\n",
    "plt.show()"
   ]
  },
  {
   "cell_type": "code",
   "execution_count": 457,
   "id": "52c82664-5409-4008-b8e8-1789a58f638f",
   "metadata": {},
   "outputs": [
    {
     "name": "stdout",
     "output_type": "stream",
     "text": [
      "        LoantoIncomeRatio  LtI_cap   LtI_log\n",
      "143                 14.19    10.98  2.483239\n",
      "1161                15.54    10.98  2.483239\n",
      "1351                14.06    10.98  2.483239\n",
      "1791                14.25    10.98  2.483239\n",
      "1962                14.81    10.98  2.483239\n",
      "...                   ...      ...       ...\n",
      "250818              14.25    10.98  2.483239\n",
      "251265              14.10    10.98  2.483239\n",
      "251994              14.00    10.98  2.483239\n",
      "252545              14.42    10.98  2.483239\n",
      "253470              15.21    10.98  2.483239\n",
      "\n",
      "[450 rows x 3 columns]\n"
     ]
    }
   ],
   "source": [
    "mask = data['LoantoIncomeRatio'] >= 14.0   # or 15, 14, whatever\n",
    "cols = ['LoantoIncomeRatio', 'LtI_cap', 'LtI_log']\n",
    "print(data.loc[mask, cols])"
   ]
  },
  {
   "cell_type": "code",
   "execution_count": 458,
   "id": "578a9e50-efd2-4b5b-8c73-ab91a50e932d",
   "metadata": {},
   "outputs": [
    {
     "data": {
      "text/plain": [
       "2.4832385926873033"
      ]
     },
     "execution_count": 458,
     "metadata": {},
     "output_type": "execute_result"
    }
   ],
   "source": [
    "data['LtI_log'].max()"
   ]
  },
  {
   "cell_type": "code",
   "execution_count": 459,
   "id": "26ca344a-7b9b-488a-be3a-d03021275d9e",
   "metadata": {},
   "outputs": [
    {
     "data": {
      "image/png": "[encoded data removed]",
      "text/plain": [
       "<Figure size 640x480 with 1 Axes>"
      ]
     },
     "metadata": {},
     "output_type": "display_data"
    }
   ],
   "source": [
    "sns.boxplot(data['MonthlyPayment'])\n",
    "plt.show()"
   ]
  },
  {
   "cell_type": "code",
   "execution_count": 460,
   "id": "602a532f-9a2c-43cd-9e7a-77b8a0736fa0",
   "metadata": {},
   "outputs": [
    {
     "data": {
      "text/plain": [
       "count    255347.000000\n",
       "mean       5499.476363\n",
       "std        5046.965573\n",
       "min          86.460000\n",
       "50%        3999.230000\n",
       "95%       17778.348000\n",
       "99%       22616.140200\n",
       "max       26004.800000\n",
       "Name: MonthlyPayment, dtype: float64"
      ]
     },
     "execution_count": 460,
     "metadata": {},
     "output_type": "execute_result"
    }
   ],
   "source": [
    "data['MonthlyPayment'].describe(percentiles=[0.95, 0.99])"
   ]
  },
  {
   "cell_type": "code",
   "execution_count": 461,
   "id": "eee5bf95-6dd2-493d-91cc-08c67858078e",
   "metadata": {},
   "outputs": [],
   "source": [
    "upper_cap = data['MonthlyPayment'].quantile(0.99)\n",
    "data['MonthlyPayment'] = np.where(data['MonthlyPayment'] > upper_cap, upper_cap, data['MonthlyPayment'])"
   ]
  },
  {
   "cell_type": "code",
   "execution_count": 462,
   "id": "11083e84-6811-4d64-857a-00ad9307624e",
   "metadata": {},
   "outputs": [
    {
     "data": {
      "text/plain": [
       "22616.1402"
      ]
     },
     "execution_count": 462,
     "metadata": {},
     "output_type": "execute_result"
    }
   ],
   "source": [
    "data['MonthlyPayment'].max()"
   ]
  },
  {
   "cell_type": "code",
   "execution_count": 463,
   "id": "1a1e90e1-5771-46f8-b1b0-581dac236f22",
   "metadata": {},
   "outputs": [
    {
     "data": {
      "image/png": "[encoded data removed]",
      "text/plain": [
       "<Figure size 640x480 with 1 Axes>"
      ]
     },
     "metadata": {},
     "output_type": "display_data"
    }
   ],
   "source": [
    "sns.boxplot(data['MonthlyPayment']) #after capping reduced \n",
    "plt.show()"
   ]
  },
  {
   "cell_type": "code",
   "execution_count": 501,
   "id": "41efa354-103e-43b5-8abe-195759426e24",
   "metadata": {},
   "outputs": [
    {
     "name": "stdout",
     "output_type": "stream",
     "text": [
      "Values above 99th percentile: 0\n"
     ]
    }
   ],
   "source": [
    "print(\"Values above 99th percentile:\", (data['MonthlyPayment'] > upper_cap).sum())"
   ]
  },
  {
   "cell_type": "code",
   "execution_count": 510,
   "id": "330ebac1-4f2e-4515-8f64-d9c1345161ab",
   "metadata": {},
   "outputs": [
    {
     "name": "stdout",
     "output_type": "stream",
     "text": [
      "Values above 99th percentile: 0\n"
     ]
    }
   ],
   "source": [
    "print(\"Values above 99th percentile:\", (data['LoantoIncomeRatio'] > cap).sum())"
   ]
  },
  {
   "cell_type": "markdown",
   "id": "a5a7e83a-5921-4724-9198-740dcd4645da",
   "metadata": {},
   "source": [
    "### Correlation Matrix (Pearson Correlation)"
   ]
  },
  {
   "cell_type": "code",
   "execution_count": 535,
   "id": "2804a8de-599a-4a1d-906a-d9a3c8ca1297",
   "metadata": {},
   "outputs": [
    {
     "data": {
      "image/png": "[encoded data removed]",
      "text/plain": [
       "<Figure size 1200x800 with 2 Axes>"
      ]
     },
     "metadata": {},
     "output_type": "display_data"
    }
   ],
   "source": [
    "# Compute correlation matrix\n",
    "corr_matrix = numerical_cols.corr()\n",
    "\n",
    "# Plot heatmap\n",
    "plt.figure(figsize=(12, 8))\n",
    "sns.heatmap(corr_matrix, annot=True, fmt=\".2f\", cmap=\"coolwarm\")\n",
    "plt.title(\"Correlation Matrix\")\n",
    "plt.show()"
   ]
  },
  {
   "cell_type": "code",
   "execution_count": 525,
   "id": "9ec3347d-5067-4206-81c3-ff7efae18fef",
   "metadata": {},
   "outputs": [
    {
     "name": "stdout",
     "output_type": "stream",
     "text": [
      "                          Age  MonthsEmployed  EmploymentStability\n",
      "Age                  1.000000       -0.000341            -0.000557\n",
      "MonthsEmployed      -0.000341        1.000000             0.977981\n",
      "EmploymentStability -0.000557        0.977981             1.000000\n"
     ]
    }
   ],
   "source": [
    "corr = data[['Age', 'MonthsEmployed', 'EmploymentStability']].corr()\n",
    "print(corr)\n"
   ]
  },
  {
   "cell_type": "markdown",
   "id": "fb0a7177-b348-4f46-b0d7-9913d7950db1",
   "metadata": {},
   "source": [
    "### Feature encoding on categorical data "
   ]
  },
  {
   "cell_type": "code",
   "execution_count": 515,
   "id": "80f9f289-49e3-4001-929b-023e98af0581",
   "metadata": {},
   "outputs": [
    {
     "data": {
      "text/html": [
       "<div>\n",
       "<style scoped>\n",
       "    .dataframe tbody tr th:only-of-type {\n",
       "        vertical-align: middle;\n",
       "    }\n",
       "\n",
       "    .dataframe tbody tr th {\n",
       "        vertical-align: top;\n",
       "    }\n",
       "\n",
       "    .dataframe thead th {\n",
       "        text-align: right;\n",
       "    }\n",
       "</style>\n",
       "<table border=\"1\" class=\"dataframe\">\n",
       "  <thead>\n",
       "    <tr style=\"text-align: right;\">\n",
       "      <th></th>\n",
       "      <th>LoanID</th>\n",
       "      <th>Age</th>\n",
       "      <th>Income</th>\n",
       "      <th>LoanAmount</th>\n",
       "      <th>CreditScore</th>\n",
       "      <th>MonthsEmployed</th>\n",
       "      <th>NumCreditLines</th>\n",
       "      <th>InterestRate</th>\n",
       "      <th>LoanTerm</th>\n",
       "      <th>DTIRatio</th>\n",
       "      <th>...</th>\n",
       "      <th>LoantoIncomeRatio</th>\n",
       "      <th>MonthlyPayment</th>\n",
       "      <th>EmploymentStability</th>\n",
       "      <th>IsYoungHighLoan</th>\n",
       "      <th>IsSingleWithDependents</th>\n",
       "      <th>HasFinancialSupport</th>\n",
       "      <th>HighDTI</th>\n",
       "      <th>LoanPurposeGroup</th>\n",
       "      <th>LtI_cap</th>\n",
       "      <th>LtI_log</th>\n",
       "    </tr>\n",
       "  </thead>\n",
       "  <tbody>\n",
       "    <tr>\n",
       "      <th>0</th>\n",
       "      <td>I38PQUQS96</td>\n",
       "      <td>56</td>\n",
       "      <td>85994</td>\n",
       "      <td>50587</td>\n",
       "      <td>520</td>\n",
       "      <td>80</td>\n",
       "      <td>4</td>\n",
       "      <td>15.23</td>\n",
       "      <td>36</td>\n",
       "      <td>0.44</td>\n",
       "      <td>...</td>\n",
       "      <td>0.59</td>\n",
       "      <td>1619.21</td>\n",
       "      <td>90</td>\n",
       "      <td>0</td>\n",
       "      <td>0</td>\n",
       "      <td>1</td>\n",
       "      <td>0</td>\n",
       "      <td>Discretionary</td>\n",
       "      <td>0.59</td>\n",
       "      <td>0.463734</td>\n",
       "    </tr>\n",
       "    <tr>\n",
       "      <th>1</th>\n",
       "      <td>HPSK72WA7R</td>\n",
       "      <td>69</td>\n",
       "      <td>50432</td>\n",
       "      <td>124440</td>\n",
       "      <td>458</td>\n",
       "      <td>15</td>\n",
       "      <td>1</td>\n",
       "      <td>4.81</td>\n",
       "      <td>60</td>\n",
       "      <td>0.68</td>\n",
       "      <td>...</td>\n",
       "      <td>2.47</td>\n",
       "      <td>2173.76</td>\n",
       "      <td>25</td>\n",
       "      <td>0</td>\n",
       "      <td>0</td>\n",
       "      <td>1</td>\n",
       "      <td>1</td>\n",
       "      <td>Discretionary</td>\n",
       "      <td>2.47</td>\n",
       "      <td>1.244155</td>\n",
       "    </tr>\n",
       "    <tr>\n",
       "      <th>2</th>\n",
       "      <td>C1OZ6DPJ8Y</td>\n",
       "      <td>46</td>\n",
       "      <td>84208</td>\n",
       "      <td>129188</td>\n",
       "      <td>451</td>\n",
       "      <td>26</td>\n",
       "      <td>3</td>\n",
       "      <td>21.17</td>\n",
       "      <td>24</td>\n",
       "      <td>0.31</td>\n",
       "      <td>...</td>\n",
       "      <td>1.53</td>\n",
       "      <td>6522.38</td>\n",
       "      <td>16</td>\n",
       "      <td>0</td>\n",
       "      <td>0</td>\n",
       "      <td>0</td>\n",
       "      <td>0</td>\n",
       "      <td>Essential</td>\n",
       "      <td>1.53</td>\n",
       "      <td>0.928219</td>\n",
       "    </tr>\n",
       "    <tr>\n",
       "      <th>3</th>\n",
       "      <td>V2KKSFM3UN</td>\n",
       "      <td>32</td>\n",
       "      <td>31713</td>\n",
       "      <td>44799</td>\n",
       "      <td>743</td>\n",
       "      <td>0</td>\n",
       "      <td>3</td>\n",
       "      <td>7.07</td>\n",
       "      <td>24</td>\n",
       "      <td>0.23</td>\n",
       "      <td>...</td>\n",
       "      <td>1.41</td>\n",
       "      <td>1998.60</td>\n",
       "      <td>10</td>\n",
       "      <td>0</td>\n",
       "      <td>0</td>\n",
       "      <td>1</td>\n",
       "      <td>0</td>\n",
       "      <td>Discretionary</td>\n",
       "      <td>1.41</td>\n",
       "      <td>0.879627</td>\n",
       "    </tr>\n",
       "    <tr>\n",
       "      <th>4</th>\n",
       "      <td>EY08JDHTZP</td>\n",
       "      <td>60</td>\n",
       "      <td>20437</td>\n",
       "      <td>9139</td>\n",
       "      <td>633</td>\n",
       "      <td>8</td>\n",
       "      <td>4</td>\n",
       "      <td>6.51</td>\n",
       "      <td>48</td>\n",
       "      <td>0.73</td>\n",
       "      <td>...</td>\n",
       "      <td>0.45</td>\n",
       "      <td>202.79</td>\n",
       "      <td>-2</td>\n",
       "      <td>0</td>\n",
       "      <td>0</td>\n",
       "      <td>0</td>\n",
       "      <td>1</td>\n",
       "      <td>Essential</td>\n",
       "      <td>0.45</td>\n",
       "      <td>0.371564</td>\n",
       "    </tr>\n",
       "  </tbody>\n",
       "</table>\n",
       "<p>5 rows × 28 columns</p>\n",
       "</div>"
      ],
      "text/plain": [
       "       LoanID  Age  Income  LoanAmount  CreditScore  MonthsEmployed  \\\n",
       "0  I38PQUQS96   56   85994       50587          520              80   \n",
       "1  HPSK72WA7R   69   50432      124440          458              15   \n",
       "2  C1OZ6DPJ8Y   46   84208      129188          451              26   \n",
       "3  V2KKSFM3UN   32   31713       44799          743               0   \n",
       "4  EY08JDHTZP   60   20437        9139          633               8   \n",
       "\n",
       "   NumCreditLines  InterestRate  LoanTerm  DTIRatio  ... LoantoIncomeRatio  \\\n",
       "0               4         15.23        36      0.44  ...              0.59   \n",
       "1               1          4.81        60      0.68  ...              2.47   \n",
       "2               3         21.17        24      0.31  ...              1.53   \n",
       "3               3          7.07        24      0.23  ...              1.41   \n",
       "4               4          6.51        48      0.73  ...              0.45   \n",
       "\n",
       "  MonthlyPayment EmploymentStability IsYoungHighLoan IsSingleWithDependents  \\\n",
       "0        1619.21                  90               0                      0   \n",
       "1        2173.76                  25               0                      0   \n",
       "2        6522.38                  16               0                      0   \n",
       "3        1998.60                  10               0                      0   \n",
       "4         202.79                  -2               0                      0   \n",
       "\n",
       "  HasFinancialSupport HighDTI  LoanPurposeGroup  LtI_cap   LtI_log  \n",
       "0                   1       0     Discretionary     0.59  0.463734  \n",
       "1                   1       1     Discretionary     2.47  1.244155  \n",
       "2                   0       0         Essential     1.53  0.928219  \n",
       "3                   1       0     Discretionary     1.41  0.879627  \n",
       "4                   0       1         Essential     0.45  0.371564  \n",
       "\n",
       "[5 rows x 28 columns]"
      ]
     },
     "execution_count": 515,
     "metadata": {},
     "output_type": "execute_result"
    }
   ],
   "source": [
    "data.head()"
   ]
  },
  {
   "cell_type": "code",
   "execution_count": null,
   "id": "a8e9a21a-23a5-4865-ac4e-4f03639d5799",
   "metadata": {},
   "outputs": [],
   "source": []
  }
 ],
 "metadata": {
  "kernelspec": {
   "display_name": "Python [conda env:base] *",
   "language": "python",
   "name": "conda-base-py"
  },
  "language_info": {
   "codemirror_mode": {
    "name": "ipython",
    "version": 3
   },
   "file_extension": ".py",
   "mimetype": "text/x-python",
   "name": "python",
   "nbconvert_exporter": "python",
   "pygments_lexer": "ipython3",
   "version": "3.12.7"
  }
 },
 "nbformat": 4,
 "nbformat_minor": 5
}
